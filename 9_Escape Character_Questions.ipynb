{
 "cells": [
  {
   "cell_type": "raw",
   "metadata": {},
   "source": [
    "print - \n",
    "\n",
    "Your's Faithfully\n",
    "Expected o/p - Your's Faithfully\n"
   ]
  },
  {
   "cell_type": "code",
   "execution_count": 3,
   "metadata": {},
   "outputs": [
    {
     "name": "stdout",
     "output_type": "stream",
     "text": [
      "Your's Faithfully\n",
      "Your's Faithfully\n"
     ]
    }
   ],
   "source": [
    "#Method1:\n",
    "print(\"Your's Faithfully\")\n",
    "\n",
    "#Method2:\n",
    "print('Your\\'s Faithfully')"
   ]
  },
  {
   "cell_type": "raw",
   "metadata": {},
   "source": [
    "print \n",
    "\n",
    "Steve Jobs said \"Innovation distinguishes between a leader and a follower.\"\n",
    "Expected o/p - Steve Jobs said \"Innovation distinguishes between a leader and a follower.\"\n",
    "\n"
   ]
  },
  {
   "cell_type": "code",
   "execution_count": 9,
   "metadata": {},
   "outputs": [
    {
     "name": "stdout",
     "output_type": "stream",
     "text": [
      " Steve Jobs said \"Innovation distinguishes between a leader and a follower.\" \n",
      " Steve Jobs said \"Innovation distinguishes between a leader and a follower.\" \n",
      " Steve Jobs said \"Innovation distinguishes between a leader and a follower.\"\n"
     ]
    }
   ],
   "source": [
    "#Method1:\n",
    "print(''' Steve Jobs said \"Innovation distinguishes between a leader and a follower.\" ''')\n",
    "\n",
    "#Method2:\n",
    "print(' Steve Jobs said \"Innovation distinguishes between a leader and a follower.\" ')\n",
    "\n",
    "#Method2:\n",
    "print(\" Steve Jobs said \\\"Innovation distinguishes between a leader and a follower.\\\"\")"
   ]
  },
  {
   "cell_type": "code",
   "execution_count": null,
   "metadata": {},
   "outputs": [],
   "source": []
  }
 ],
 "metadata": {
  "kernelspec": {
   "display_name": "Python [conda env:base] *",
   "language": "python",
   "name": "conda-base-py"
  },
  "language_info": {
   "codemirror_mode": {
    "name": "ipython",
    "version": 3
   },
   "file_extension": ".py",
   "mimetype": "text/x-python",
   "name": "python",
   "nbconvert_exporter": "python",
   "pygments_lexer": "ipython3",
   "version": "3.13.5"
  }
 },
 "nbformat": 4,
 "nbformat_minor": 4
}
