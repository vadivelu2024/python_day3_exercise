{
 "cells": [
  {
   "cell_type": "code",
   "execution_count": 1,
   "metadata": {},
   "outputs": [],
   "source": [
    "# Write a function to hours to minutes , user should able to give hours as input\n",
    "\n",
    "# your Answer\n",
    "\n",
    "def hrstominscalc(x):\n",
    "    y = x*2\n",
    "    print(x,\"hours equals to\",y,\"minutes\")"
   ]
  },
  {
   "cell_type": "code",
   "execution_count": 2,
   "metadata": {},
   "outputs": [
    {
     "name": "stdout",
     "output_type": "stream",
     "text": [
      "2 hours equals to 4 minutes\n"
     ]
    }
   ],
   "source": [
    "hrstominscalc(2)"
   ]
  },
  {
   "cell_type": "code",
   "execution_count": 1,
   "metadata": {},
   "outputs": [
    {
     "name": "stdin",
     "output_type": "stream",
     "text": [
      "Enter centimeters: 10\n"
     ]
    },
    {
     "name": "stdout",
     "output_type": "stream",
     "text": [
      "10 centimeters are equal to 1000 meters\n"
     ]
    }
   ],
   "source": [
    "# Write a function to convert centimeter to meter , user shoulb be able to give centimeter as input\n",
    "# your Answer\n",
    "\n",
    "\n",
    "a=int(input(\"Enter centimeters:\"))\n",
    "\n",
    "def cent_meters(a):\n",
    "    b=a*100\n",
    "    print(a,'centimeters are equal to',b,'meters')\n",
    "\n",
    "cent_meters(a)\n",
    "    \n",
    "\n",
    "\n",
    "\n",
    "\n"
   ]
  },
  {
   "cell_type": "code",
   "execution_count": 2,
   "metadata": {},
   "outputs": [
    {
     "name": "stdin",
     "output_type": "stream",
     "text": [
      "Enter miles: 10\n"
     ]
    },
    {
     "name": "stdout",
     "output_type": "stream",
     "text": [
      "10 miles are equal to : 16.0 kilometers\n"
     ]
    }
   ],
   "source": [
    "# Write a function to convert miles to Kilometer , user shoulb be able to give miles as input\n",
    "\n",
    "# your Answer\n",
    "\n",
    "a=int(input(\"Enter miles:\"))\n",
    "\n",
    "def miles_kilometers(a):\n",
    "    b=a*1.6\n",
    "    print(a,'miles are equal to :',b,'kilometers')\n",
    "\n",
    "miles_kilometers(a)\n",
    "\n",
    "\n",
    "\n"
   ]
  },
  {
   "cell_type": "code",
   "execution_count": 3,
   "metadata": {},
   "outputs": [
    {
     "name": "stdin",
     "output_type": "stream",
     "text": [
      "Enter te pounds: 10\n"
     ]
    },
    {
     "name": "stdout",
     "output_type": "stream",
     "text": [
      "10 pounds are equal to: 4.535923700000001 kilograms\n"
     ]
    }
   ],
   "source": [
    "# Write a function to convert pounds to Kilogram , user shoulb be able to give pounds as input\n",
    "# your Answer\n",
    "\n",
    "\n",
    "a=int(input('Enter te pounds:'))\n",
    "\n",
    "def pounds_kilogram(a):\n",
    "    b=a*0.45359237\n",
    "    print(a,'pounds are equal to:',b,'kilograms')\n",
    "\n",
    "pounds_kilogram(a)\n",
    "\n",
    "\n",
    "\n",
    "\n"
   ]
  },
  {
   "cell_type": "code",
   "execution_count": 6,
   "metadata": {},
   "outputs": [
    {
     "name": "stdin",
     "output_type": "stream",
     "text": [
      "Enter principal amount: 10000\n",
      "Enter time period: 1\n",
      "Enter rate of interest: 10\n"
     ]
    },
    {
     "name": "stdout",
     "output_type": "stream",
     "text": [
      "simple interest is: 1000.0\n"
     ]
    }
   ],
   "source": [
    "# Write a function to calculate simple interest # all input shoulb be given by the user\n",
    "# your Answer\n",
    "\n",
    "a=int(input(\"Enter principal amount:\"))\n",
    "b=int(input(\"Enter time period:\"))\n",
    "c=int(input(\"Enter rate of interest:\"))\n",
    "\n",
    "def simple_interest(a,b,c):\n",
    "    si=a*b*c/100\n",
    "    print('simple interest is:',si)\n",
    "\n",
    "simple_interest(a,b,c)\n",
    "\n"
   ]
  },
  {
   "cell_type": "code",
   "execution_count": 9,
   "metadata": {},
   "outputs": [
    {
     "name": "stdin",
     "output_type": "stream",
     "text": [
      "Enter radius of a cirle: 10\n"
     ]
    },
    {
     "name": "stdout",
     "output_type": "stream",
     "text": [
      "area of a cicle is: 314.2\n"
     ]
    }
   ],
   "source": [
    "# Write a function to calculate area of circle\n",
    "# your Answer\n",
    "\n",
    "\n",
    "a=int(input(\"Enter radius of a cirle:\"))\n",
    "\n",
    "def area_of_circle(a):\n",
    "    b=3.142*a*a\n",
    "    print(\"area of a cicle is:\",b)\n",
    "\n",
    "area_of_circle(a)\n",
    "\n",
    "\n",
    "\n",
    "\n"
   ]
  },
  {
   "cell_type": "code",
   "execution_count": 11,
   "metadata": {},
   "outputs": [
    {
     "name": "stdin",
     "output_type": "stream",
     "text": [
      "Enter radius of a cirle: 10\n"
     ]
    },
    {
     "name": "stdout",
     "output_type": "stream",
     "text": [
      "circumference of a cicle is: 62.839999999999996\n"
     ]
    }
   ],
   "source": [
    "# Write a function to calculate circumference of circle\n",
    "# your Answer\n",
    "\n",
    "\n",
    "a=int(input(\"Enter radius of a cirle:\"))\n",
    "\n",
    "def circumference_of_circle(a):\n",
    "    b=2*3.142*a\n",
    "    print(\"circumference of a cicle is:\",b)\n",
    "\n",
    "circumference_of_circle(a)\n",
    "\n",
    "\n"
   ]
  },
  {
   "cell_type": "code",
   "execution_count": 13,
   "metadata": {},
   "outputs": [
    {
     "name": "stdin",
     "output_type": "stream",
     "text": [
      "Enter a side of a square: 10\n"
     ]
    },
    {
     "name": "stdout",
     "output_type": "stream",
     "text": [
      "perimeter of square: 40\n"
     ]
    }
   ],
   "source": [
    "# Write a function to calculate perimeter of square\n",
    "# your Answer\n",
    "\n",
    "a=int(input(\"Enter a side of a square:\"))\n",
    "\n",
    "def perimeter_square(a):\n",
    "    b=4*a\n",
    "    print(\"perimeter of square:\",b)\n",
    "\n",
    "perimeter_square(a)\n",
    "\n",
    "\n",
    "\n",
    "\n",
    "\n"
   ]
  },
  {
   "cell_type": "code",
   "execution_count": 15,
   "metadata": {},
   "outputs": [
    {
     "name": "stdin",
     "output_type": "stream",
     "text": [
      "Enter a side of a square: 10\n"
     ]
    },
    {
     "name": "stdout",
     "output_type": "stream",
     "text": [
      "area of square: 100\n"
     ]
    }
   ],
   "source": [
    "# Write a fucntion to calculate area of square\n",
    "# your Answer\n",
    "\n",
    "a=int(input(\"Enter a side of a square:\"))\n",
    "\n",
    "def area_of_square(a):\n",
    "    b=a*a\n",
    "    print(\"area of square:\",b)\n",
    "\n",
    "area_of_square(a)\n",
    "\n",
    "\n",
    "\n",
    "\n",
    "\n"
   ]
  },
  {
   "cell_type": "code",
   "execution_count": 17,
   "metadata": {},
   "outputs": [
    {
     "name": "stdin",
     "output_type": "stream",
     "text": [
      "Enter a base of a triangle 10\n",
      "Enter a hight of a triangle 10\n"
     ]
    },
    {
     "name": "stdout",
     "output_type": "stream",
     "text": [
      "Area of a triangle is: 50.0\n"
     ]
    }
   ],
   "source": [
    "# Write a function to area of traingle\n",
    "# your Answer\n",
    "\n",
    "a=int(input(\"Enter a base of a triangle\"))\n",
    "b=int(input(\"Enter a hight of a triangle\"))\n",
    "\n",
    "def area_triangle(a,b):\n",
    "    c=a*b/2\n",
    "    print(\"Area of a triangle is:\",c)\n",
    "\n",
    "area_triangle(a,b)\n",
    "\n",
    "\n",
    "\n",
    "\n",
    "\n"
   ]
  },
  {
   "cell_type": "code",
   "execution_count": null,
   "metadata": {},
   "outputs": [],
   "source": []
  }
 ],
 "metadata": {
  "kernelspec": {
   "display_name": "Python [conda env:base] *",
   "language": "python",
   "name": "conda-base-py"
  },
  "language_info": {
   "codemirror_mode": {
    "name": "ipython",
    "version": 3
   },
   "file_extension": ".py",
   "mimetype": "text/x-python",
   "name": "python",
   "nbconvert_exporter": "python",
   "pygments_lexer": "ipython3",
   "version": "3.13.5"
  }
 },
 "nbformat": 4,
 "nbformat_minor": 4
}
