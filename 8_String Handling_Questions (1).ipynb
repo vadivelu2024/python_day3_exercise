{
 "cells": [
  {
   "cell_type": "raw",
   "metadata": {},
   "source": [
    "Python Program to Replace all Occurrences of ‘a’ with $ in a String\n",
    "\n",
    "Given String = \"apple\""
   ]
  },
  {
   "cell_type": "code",
   "execution_count": 1,
   "metadata": {},
   "outputs": [
    {
     "name": "stdout",
     "output_type": "stream",
     "text": [
      "$pple\n"
     ]
    }
   ],
   "source": [
    "a = \"apple\"\n",
    "b = a.replace(\"a\",\"$\")\n",
    "print(b)"
   ]
  },
  {
   "cell_type": "raw",
   "metadata": {},
   "source": [
    "2.Python Program to Remove the 5th Index Character from a String"
   ]
  },
  {
   "cell_type": "code",
   "execution_count": 2,
   "metadata": {},
   "outputs": [
    {
     "name": "stdout",
     "output_type": "stream",
     "text": [
      "ameria\n"
     ]
    }
   ],
   "source": [
    "a='america'\n",
    "b=a[:5]+a[6:]\n",
    "print(b)\n",
    "\n"
   ]
  },
  {
   "cell_type": "raw",
   "metadata": {},
   "source": [
    "3.Python Program to Form a New String where the First Character and the Last Character have been Exchanged"
   ]
  },
  {
   "cell_type": "code",
   "execution_count": 5,
   "metadata": {},
   "outputs": [
    {
     "name": "stdout",
     "output_type": "stream",
     "text": [
      "nmericaa\n"
     ]
    }
   ],
   "source": [
    "a='american'\n",
    "b=a[-1]+a[1:-1]+a[0]\n",
    "print(b)"
   ]
  },
  {
   "cell_type": "raw",
   "metadata": {},
   "source": [
    "4.Python Program to Count the Number of Vowels in a String"
   ]
  },
  {
   "cell_type": "code",
   "execution_count": 28,
   "metadata": {},
   "outputs": [
    {
     "name": "stdin",
     "output_type": "stream",
     "text": [
      "Enter a string bghjnsf\n"
     ]
    },
    {
     "name": "stdout",
     "output_type": "stream",
     "text": [
      "0\n"
     ]
    }
   ],
   "source": [
    "a={'a','e','i','o','u','A','E','I','O','U'}\n",
    "b=str(input(\"Enter a string\"))\n",
    "\n",
    "count=0\n",
    "for i in b:\n",
    "    if i in a:\n",
    "        count+=1\n",
    "\n",
    "print(count)\n",
    "        "
   ]
  },
  {
   "cell_type": "raw",
   "metadata": {},
   "source": [
    "5.Python Program to Take in a String and Replace Every Blank Space with Hyphen"
   ]
  },
  {
   "cell_type": "code",
   "execution_count": 30,
   "metadata": {},
   "outputs": [
    {
     "name": "stdin",
     "output_type": "stream",
     "text": [
      "Enter a string vadivelu is intelligent guy\n"
     ]
    },
    {
     "name": "stdout",
     "output_type": "stream",
     "text": [
      "vadivelu_is_intelligent_guy\n"
     ]
    }
   ],
   "source": [
    "a=str(input(\"Enter a string\"))\n",
    "b=a.replace(' ','_')\n",
    "print(b)"
   ]
  },
  {
   "cell_type": "raw",
   "metadata": {},
   "source": [
    "6.Python Program to Calculate the Length of a String Without Using a Library Function"
   ]
  },
  {
   "cell_type": "code",
   "execution_count": 32,
   "metadata": {},
   "outputs": [
    {
     "name": "stdin",
     "output_type": "stream",
     "text": [
      "Enter a string bghnlsihhd\n"
     ]
    },
    {
     "name": "stdout",
     "output_type": "stream",
     "text": [
      "10\n"
     ]
    }
   ],
   "source": [
    "a=str(input(\"Enter a string\"))\n",
    "\n",
    "count=0\n",
    "for i in a:\n",
    "    count+=1\n",
    "print(count)\n",
    "    "
   ]
  },
  {
   "cell_type": "raw",
   "metadata": {},
   "source": [
    "7.Python Program to Remove the Characters of Odd Index Values in a String"
   ]
  },
  {
   "cell_type": "code",
   "execution_count": 37,
   "metadata": {},
   "outputs": [
    {
     "name": "stdin",
     "output_type": "stream",
     "text": [
      "Enter a string vadivelu\n"
     ]
    },
    {
     "name": "stdout",
     "output_type": "stream",
     "text": [
      "vdvl\n"
     ]
    }
   ],
   "source": [
    "a=str(input(\"Enter a string\"))\n",
    "b=''\n",
    "for i in range(len(a)):\n",
    "    if i%2==0:\n",
    "        b=b+a[i]\n",
    "print(b)"
   ]
  },
  {
   "cell_type": "raw",
   "metadata": {},
   "source": [
    "8.Python Program to Calculate the Number of Words and the Number of Characters Present in a String"
   ]
  },
  {
   "cell_type": "code",
   "execution_count": 40,
   "metadata": {},
   "outputs": [
    {
     "name": "stdin",
     "output_type": "stream",
     "text": [
      "Enter a string vadivelu is brilliant boy\n"
     ]
    },
    {
     "name": "stdout",
     "output_type": "stream",
     "text": [
      "25\n",
      "4\n"
     ]
    }
   ],
   "source": [
    "a=str(input(\"Enter a string\"))\n",
    "b=len(a)\n",
    "print(b)\n",
    "c=a.split()\n",
    "print(len(c))\n",
    "\n",
    "    "
   ]
  },
  {
   "cell_type": "raw",
   "metadata": {},
   "source": [
    "9.Python Program to Take in Two Strings and Display the Larger String without Using Built-in Functions"
   ]
  },
  {
   "cell_type": "code",
   "execution_count": 45,
   "metadata": {},
   "outputs": [
    {
     "name": "stdin",
     "output_type": "stream",
     "text": [
      "Enter a string vadivelu\n",
      "Enter a string remo\n"
     ]
    },
    {
     "name": "stdout",
     "output_type": "stream",
     "text": [
      "vadivelu is bigger\n"
     ]
    }
   ],
   "source": [
    "a=str(input(\"Enter a string\"))\n",
    "b=str(input(\"Enter a string\"))\n",
    "c=0\n",
    "d=0\n",
    "for i in a:\n",
    "    c+=1\n",
    "\n",
    "for j in b:\n",
    "    d+=1\n",
    "    \n",
    "if c>d:\n",
    "    print(a, 'is bigger')\n",
    "else:\n",
    "    print(b, 'is bigger')"
   ]
  },
  {
   "cell_type": "raw",
   "metadata": {},
   "source": [
    "10.Python Program to Count Number of Lowercase Characters in a String"
   ]
  },
  {
   "cell_type": "code",
   "execution_count": 48,
   "metadata": {},
   "outputs": [
    {
     "name": "stdin",
     "output_type": "stream",
     "text": [
      "Enter a string vadivelu\n"
     ]
    },
    {
     "name": "stdout",
     "output_type": "stream",
     "text": [
      "8\n"
     ]
    }
   ],
   "source": [
    "a=str(input(\"Enter a string\"))\n",
    "b=0\n",
    "for i in a:\n",
    "    if i.islower():\n",
    "        b+=1\n",
    "print(b)"
   ]
  },
  {
   "cell_type": "raw",
   "metadata": {},
   "source": [
    "11.Python Program to Check if a String is a Palindrome or Not"
   ]
  },
  {
   "cell_type": "code",
   "execution_count": 55,
   "metadata": {},
   "outputs": [
    {
     "name": "stdin",
     "output_type": "stream",
     "text": [
      "Enter a string asdfgfdsa\n"
     ]
    },
    {
     "name": "stdout",
     "output_type": "stream",
     "text": [
      "yes given string is pan=lindrme\n"
     ]
    }
   ],
   "source": [
    "a=str(input(\"Enter a string\"))\n",
    "\n",
    "if a==a[::-1]:\n",
    "    print('yes given string is pan=lindrme')\n",
    "else:\n",
    "    print(\"no given string is not a palindrome\")\n",
    "\n",
    "    "
   ]
  },
  {
   "cell_type": "raw",
   "metadata": {},
   "source": [
    "12.Python Program to Calculate the Number of Upper Case Letters and Lower Case Letters in a String"
   ]
  },
  {
   "cell_type": "code",
   "execution_count": 56,
   "metadata": {},
   "outputs": [
    {
     "name": "stdin",
     "output_type": "stream",
     "text": [
      "Enter a string VadivelU\n"
     ]
    },
    {
     "name": "stdout",
     "output_type": "stream",
     "text": [
      "6\n",
      "2\n"
     ]
    }
   ],
   "source": [
    "a=str(input(\"Enter a string\"))\n",
    "b=0\n",
    "c=0\n",
    "for i in a:\n",
    "    if i.islower():\n",
    "        b+=1\n",
    "    else:\n",
    "        c+=1\n",
    "print(b)\n",
    "print(c)"
   ]
  },
  {
   "cell_type": "raw",
   "metadata": {},
   "source": [
    "13.Python Program to Calculate the Number of Digits and Letters in a String"
   ]
  },
  {
   "cell_type": "code",
   "execution_count": 63,
   "metadata": {},
   "outputs": [
    {
     "name": "stdin",
     "output_type": "stream",
     "text": [
      "Enter a string with digits vadivelu123\n"
     ]
    },
    {
     "name": "stdout",
     "output_type": "stream",
     "text": [
      "3\n",
      "8\n"
     ]
    }
   ],
   "source": [
    "a=str(input(\"Enter a string with digits\"))\n",
    "b=0\n",
    "c=0\n",
    "for i in a:\n",
    "    if i.isdigit():\n",
    "        b+=1\n",
    "    elif i.isalpha():\n",
    "        c+=1\n",
    "\n",
    "print(b)\n",
    "print(c)\n",
    "    \n"
   ]
  },
  {
   "cell_type": "raw",
   "metadata": {},
   "source": [
    "14.Python Program to Form a New String Made of the First 2 and Last 2 characters From a Given String"
   ]
  },
  {
   "cell_type": "code",
   "execution_count": 66,
   "metadata": {},
   "outputs": [
    {
     "name": "stdin",
     "output_type": "stream",
     "text": [
      "Enter a string with digits vadivelu\n"
     ]
    },
    {
     "name": "stdout",
     "output_type": "stream",
     "text": [
      "valu\n"
     ]
    }
   ],
   "source": [
    "a=str(input(\"Enter a string with digits\"))\n",
    "b=a[:2]+a[-2:]\n",
    "print(b)"
   ]
  },
  {
   "cell_type": "raw",
   "metadata": {},
   "source": [
    "15.Python Program to Count the Occurrences of Each Word in a Given String Sentence\n",
    "\n",
    "\"Everybody is selfish , the ratio diferrs , time to time , person to to person\"\n",
    "\n",
    "count the occurance of \"time\""
   ]
  },
  {
   "cell_type": "code",
   "execution_count": 68,
   "metadata": {},
   "outputs": [
    {
     "name": "stdout",
     "output_type": "stream",
     "text": [
      "{'everybody': 1, 'is': 1, 'selfish': 1, 'the': 1, 'ratio': 1, 'diferrs': 1, 'time': 2, 'to': 3, 'person': 2}\n"
     ]
    }
   ],
   "source": [
    "a= \"Everybody is selfish , the ratio diferrs , time to time , person to to person\"\n",
    "b = a.replace(',', '').lower()\n",
    "c= b.split()\n",
    "\n",
    "word_count = {}\n",
    "for word in c:\n",
    "    if word in word_count:\n",
    "        word_count[word] += 1\n",
    "    else:\n",
    "        word_count[word] = 1\n",
    "\n",
    "print(word_count)"
   ]
  },
  {
   "cell_type": "code",
   "execution_count": null,
   "metadata": {},
   "outputs": [],
   "source": []
  }
 ],
 "metadata": {
  "kernelspec": {
   "display_name": "Python [conda env:base] *",
   "language": "python",
   "name": "conda-base-py"
  },
  "language_info": {
   "codemirror_mode": {
    "name": "ipython",
    "version": 3
   },
   "file_extension": ".py",
   "mimetype": "text/x-python",
   "name": "python",
   "nbconvert_exporter": "python",
   "pygments_lexer": "ipython3",
   "version": "3.13.5"
  }
 },
 "nbformat": 4,
 "nbformat_minor": 4
}
